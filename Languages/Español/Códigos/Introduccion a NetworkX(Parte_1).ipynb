{
 "cells": [
  {
   "cell_type": "markdown",
   "id": "735c7341",
   "metadata": {},
   "source": [
    "<p>\n",
    "  <img src=\"https://upload.wikimedia.org/wikipedia/commons/4/4b/Moreno_Sociogram_1st_Grade.png\" align = \"right\"  width=\"90\" height=\"90\" />\n",
    "</p>\n",
    "\n",
    "\n",
    "# Teoría de Ciencia de Redes.\n",
    "Empty "
   ]
  },
  {
   "cell_type": "markdown",
   "id": "a14c1ba8",
   "metadata": {},
   "source": [
    "# Documentación de NetworkX 🌐"
   ]
  },
  {
   "cell_type": "code",
   "execution_count": 1,
   "id": "83cd171d",
   "metadata": {},
   "outputs": [
    {
     "data": {
      "text/html": [
       "\n",
       "        <iframe\n",
       "            width=\"900\"\n",
       "            height=\"400\"\n",
       "            src=\"https://networkx.org/\"\n",
       "            frameborder=\"0\"\n",
       "            allowfullscreen\n",
       "            \n",
       "        ></iframe>\n",
       "        "
      ],
      "text/plain": [
       "<IPython.lib.display.IFrame at 0x1c81b6ff490>"
      ]
     },
     "metadata": {},
     "output_type": "display_data"
    }
   ],
   "source": [
    "#Impresión de una página web\n",
    "from IPython.display import IFrame\n",
    "netX = IFrame(src=\"https://networkx.org/\",width=900, height=400)\n",
    "display(netX)"
   ]
  },
  {
   "cell_type": "markdown",
   "id": "ef03f40e",
   "metadata": {},
   "source": [
    "# Instalación de NetworkX\n",
    "\n",
    "**Si estas usando una libreta de [Jupyter](https://jupyter.org/) el comando es el siguiente** ```!pip3 install networkx```.\n",
    "**Si estas instalando por consola el comando es casi análogo** ```pip3 install networkx```"
   ]
  },
  {
   "cell_type": "code",
   "execution_count": 2,
   "id": "c438485a",
   "metadata": {},
   "outputs": [
    {
     "name": "stdout",
     "output_type": "stream",
     "text": [
      "['N1', 'N2', 'N3', 'N4', 'N5', 'N6', 'N7']\n"
     ]
    },
    {
     "data": {
      "image/png": "[encoded data removed]",
      "text/plain": [
       "<Figure size 432x288 with 1 Axes>"
      ]
     },
     "metadata": {},
     "output_type": "display_data"
    }
   ],
   "source": [
    "#Importamos el módulo\n",
    "import networkx as nx\n",
    "\n",
    "#Crear una gráfica usando el método nx.Graph()\n",
    "\n",
    "gf = nx.Graph()\n",
    "\n",
    "#Agregar nodos es con el método .add_node() \n",
    "for i in range(7):#Queremos agregar 7 nodos \n",
    "    gf.add_node('N{}'.format(i+1))\n",
    "\n",
    "#Impresión de los 7 nodos usando el método .nodes\n",
    "print(gf.nodes)\n",
    "#Como podemos ver nos imprime una lista.\n",
    "\"\"\"\n",
    "Agregando aristas. Para agregar aristas tenemos de dos formas:\n",
    "1. Arista por arista.\n",
    "2. Dar un conjunto de lista de tuplas con las parejas de nodos que queremos\n",
    "que se una arista.\n",
    "\"\"\"\n",
    "#Usando 1. Se usa el método .add_edge()\n",
    "gf.add_edge('N1','N7')\n",
    "gf.add_edge('N2','N3')\n",
    "\n",
    "#Usando 2. .add_edge_from([()])\n",
    "gf.add_edges_from([('N4','N6'),('N5','N1')])\n",
    "\n",
    "#Si queremos ver el grafo sería con el método nx.draw()\n",
    "\n",
    "nx.draw(gf)"
   ]
  },
  {
   "cell_type": "markdown",
   "id": "4eef2ebe",
   "metadata": {},
   "source": [
    "### Modificando el grafo. 🖍️\n",
    "Si queremos modificar el grafo poniendo el nombre de los nodos sería ``` nx.draw(graph,with_labels =True)```.\n",
    "\n",
    "En cambio si queremos modificar el color de los nodos sería ```nx.draw(graph,with_labels = True, node_color = '')```\n",
    "\n",
    "Si se quiere modificar el tamaño de los nodos ```nx.draw(graph,with_labels = True, node_color = '', node_size = n )``` donde $n$ es el tamaño.\n",
    "\n",
    "Si se quiere modificar el color de las etiquetas sería ```nx.draw(graph,with_labels = True, node_color = '',node_size = n, font_color='')```"
   ]
  },
  {
   "cell_type": "code",
   "execution_count": 3,
   "id": "a1375d99",
   "metadata": {},
   "outputs": [
    {
     "data": {
      "image/png": "[encoded data removed]",
      "text/plain": [
       "<Figure size 432x288 with 1 Axes>"
      ]
     },
     "metadata": {},
     "output_type": "display_data"
    }
   ],
   "source": [
    "nx.draw(gf,with_labels = True, node_color = 'red', node_size = 500, font_color = 'white')"
   ]
  },
  {
   "cell_type": "code",
   "execution_count": 4,
   "id": "c23ee096",
   "metadata": {},
   "outputs": [
    {
     "name": "stdout",
     "output_type": "stream",
     "text": [
      "Los números de aristas de la gráfica gf son:  4\n",
      "Los números de nodos de la gráfica gf son:  7\n",
      "El número de nodos conectada con el N1 son: \n",
      "N7\n",
      "N5\n",
      "\n",
      "Help on function draw in module networkx.drawing.nx_pylab:\n",
      "\n",
      "draw(G, pos=None, ax=None, **kwds)\n",
      "    Draw the graph G with Matplotlib.\n",
      "    \n",
      "    Draw the graph as a simple representation with no node\n",
      "    labels or edge labels and using the full Matplotlib figure area\n",
      "    and no axis labels by default.  See draw_networkx() for more\n",
      "    full-featured drawing that allows title, axis labels etc.\n",
      "    \n",
      "    Parameters\n",
      "    ----------\n",
      "    G : graph\n",
      "        A networkx graph\n",
      "    \n",
      "    pos : dictionary, optional\n",
      "        A dictionary with nodes as keys and positions as values.\n",
      "        If not specified a spring layout positioning will be computed.\n",
      "        See :py:mod:`networkx.drawing.layout` for functions that\n",
      "        compute node positions.\n",
      "    \n",
      "    ax : Matplotlib Axes object, optional\n",
      "        Draw the graph in specified Matplotlib axes.\n",
      "    \n",
      "    kwds : optional keywords\n",
      "        See networkx.draw_networkx() for a description of optional keywords.\n",
      "    \n",
      "    Examples\n",
      "    --------\n",
      "    >>> G = nx.dodecahedral_graph()\n",
      "    >>> nx.draw(G)\n",
      "    >>> nx.draw(G, pos=nx.spring_layout(G))  # use spring layout\n",
      "    \n",
      "    See Also\n",
      "    --------\n",
      "    draw_networkx\n",
      "    draw_networkx_nodes\n",
      "    draw_networkx_edges\n",
      "    draw_networkx_labels\n",
      "    draw_networkx_edge_labels\n",
      "    \n",
      "    Notes\n",
      "    -----\n",
      "    This function has the same name as pylab.draw and pyplot.draw\n",
      "    so beware when using `from networkx import *`\n",
      "    \n",
      "    since you might overwrite the pylab.draw function.\n",
      "    \n",
      "    With pyplot use\n",
      "    \n",
      "    >>> import matplotlib.pyplot as plt\n",
      "    >>> G = nx.dodecahedral_graph()\n",
      "    >>> nx.draw(G)  # networkx draw()\n",
      "    >>> plt.draw()  # pyplot draw()\n",
      "    \n",
      "    Also see the NetworkX drawing examples at\n",
      "    https://networkx.org/documentation/latest/auto_examples/index.html\n",
      "\n"
     ]
    }
   ],
   "source": [
    "#Ver cuantos números de aristas hay usamos el método .number_of_edges()\n",
    "print(\"Los números de aristas de la gráfica gf son: \",gf.number_of_edges())\n",
    "#Ver cuantos nodos tenemos usamos el método .number_of_modes()\n",
    "print(\"Los números de nodos de la gráfica gf son: \",gf.number_of_nodes())\n",
    "#Si queremos qué nodos están conectados .neighbors(node) pero es un objeto interable\n",
    "#por lo que podemos usar un for.\n",
    "print(\"El número de nodos conectada con el N1 son: \")\n",
    "for i in gf.neighbors('N1'):print(i)\n",
    "print()\n",
    "#Si tenemos dudas de un método de NetworkX puede usar nx.draw? o help(nx.draw)\n",
    "help(nx.draw)"
   ]
  },
  {
   "cell_type": "code",
   "execution_count": 5,
   "id": "ee34674d",
   "metadata": {},
   "outputs": [
    {
     "name": "stdout",
     "output_type": "stream",
     "text": [
      "Existe el nodo 1?  True\n",
      "Hay una arista entre el nodo 1 y 7?  True\n"
     ]
    }
   ],
   "source": [
    "# Para verificar si el nodo existe usamos el método .has_node(node) regresa un booleano \n",
    "print(\"Existe el nodo 1? \",gf.has_node('N1'))\n",
    "#Para verificar si hay conexión u arista entre los nodos usamos le método .has_edge(node_1,node_2)\n",
    "print(\"Hay una arista entre el nodo 1 y 7? \",gf.has_edge('N1','N7'))"
   ]
  },
  {
   "cell_type": "markdown",
   "id": "71a9dd62",
   "metadata": {},
   "source": [
    "## Ejemplo complementario.🖊️"
   ]
  },
  {
   "cell_type": "code",
   "execution_count": 6,
   "id": "a8d06200",
   "metadata": {},
   "outputs": [
    {
     "name": "stdout",
     "output_type": "stream",
     "text": [
      "[0, 1, 2, 3, 4, 5, 6, 7, 8, 9]\n",
      "\n",
      "[10, 11, 12, 13, 14, 15, 16, 17, 18, 19, 20, 21, 22, 23, 24, 25, 26, 27, 28, 29, 30, 31, 32, 33, 34, 35, 36, 37, 38, 39, 40, 41, 42, 43, 44, 45, 46, 47, 48, 49, 50, 51, 52, 53, 54, 55, 56, 57, 58, 59, 60, 61, 62, 63, 64, 65, 66, 67, 68, 69, 70, 71, 72, 73, 74, 75, 76, 77, 78, 79, 80, 81, 82, 83, 84, 85, 86, 87, 88, 89, 90, 91, 92, 93, 94, 95, 96, 97, 98, 99]\n",
      "\n"
     ]
    },
    {
     "data": {
      "text/plain": [
       "EdgeView([(0, 1), (2, 8), (2, 3), (3, 7), (3, 9)])"
      ]
     },
     "execution_count": 6,
     "metadata": {},
     "output_type": "execute_result"
    }
   ],
   "source": [
    "#Generamos el grafo 1\n",
    "G= nx.Graph()\n",
    "#Generamos el grafo 2\n",
    "G_2 = nx.Graph()\n",
    "#Agregamos los nodos\n",
    "nodos = list(range(10))\n",
    "nodos_2 = list(range(10,100))\n",
    "G.add_nodes_from(nodos)\n",
    "G_2.add_nodes_from(nodos_2)\n",
    "#Imprimimos los nodos agregados\n",
    "print(G.nodes())\n",
    "print()\n",
    "print(G_2.nodes())\n",
    "print()\n",
    "\n",
    "#Agregamos aristas.\n",
    "G.add_edges_from([(3,7),(0,1),(2,8),(9,3),(2,3)])\n",
    "#Imprimos las aristas.\n",
    "G.edges()"
   ]
  },
  {
   "cell_type": "code",
   "execution_count": 7,
   "id": "219180dd",
   "metadata": {},
   "outputs": [
    {
     "data": {
      "image/png": "[encoded data removed]",
      "text/plain": [
       "<Figure size 432x288 with 1 Axes>"
      ]
     },
     "metadata": {},
     "output_type": "display_data"
    }
   ],
   "source": [
    "#Impresión del grafo que se generó G\n",
    "nx.draw(G,with_labels = True, node_color = 'pink', node_size = 400, font_color = 'blue')"
   ]
  },
  {
   "cell_type": "code",
   "execution_count": 8,
   "id": "950add45",
   "metadata": {},
   "outputs": [
    {
     "name": "stdout",
     "output_type": "stream",
     "text": [
      "Esta conectada la red?  False\n",
      "\n",
      "Hay camino entre el nodo 6 y 4?  False\n",
      "\n",
      "El numero de componentes en la red son:  5\n",
      "\n",
      "Los componentes conetados en G son:  [{0, 1}, {2, 3, 7, 8, 9}, {4}, {5}, {6}]\n",
      "\n",
      "Es G un árbol? False\n"
     ]
    }
   ],
   "source": [
    "#Notemos que en nuestro grafo hay conexiones y algunas no.\n",
    "#Entonces para ver si hay conexiones existe el método para ello nx.is_connected(grafo)\n",
    "print(\"Esta conectada la red? \",nx.is_connected(G))\n",
    "print()\n",
    "#Para ver si hay caminos en la red se usa el siguiente método .has_path(graph,node_1,node_2)\n",
    "print(\"Hay camino entre el nodo 6 y 4? \",nx.has_path(G,6,4))\n",
    "print()\n",
    "#Si queremos ver el número de los componentes usamos el método .number_of_edges(graph)\n",
    "print(\"El numero de componentes en la red son: \",nx.number_of_edges(G))\n",
    "print()\n",
    "#Si queremos saber cuantos están conectados solamente es .number_connected_components(graph)\n",
    "print(\"Los componentes conetados en G son: \", list(nx.connected_components(G)))\n",
    "print()\n",
    "#Empleando la teoría, podemos ver que sí hay un árbol ya que sería un subgrafo de G.\n",
    "#Para ver si G es un árbol.\n",
    "print(\"Es G un árbol?\",nx.is_tree(G))"
   ]
  },
  {
   "cell_type": "markdown",
   "id": "994ba6b5",
   "metadata": {},
   "source": [
    "### De grafo a subgrafo"
   ]
  },
  {
   "cell_type": "code",
   "execution_count": 9,
   "id": "8a2028fa",
   "metadata": {},
   "outputs": [
    {
     "name": "stdout",
     "output_type": "stream",
     "text": [
      "Es un árbol el subgrafo de G? True\n",
      "\n",
      "Graph with 2 nodes and 1 edges\n",
      "Graph with 5 nodes and 4 edges\n",
      "Graph with 1 nodes and 0 edges\n",
      "Graph with 1 nodes and 0 edges\n",
      "Graph with 1 nodes and 0 edges\n",
      "\n",
      "Es un arbol el [0, 1]? True\n",
      "Es un arbol el [2, 3, 7, 8, 9]? True\n",
      "Es un arbol el [4]? True\n",
      "Es un arbol el [5]? True\n",
      "Es un arbol el [6]? True\n",
      "\n",
      "Hay un camino entre el nodo 7 y 8?  True\n"
     ]
    }
   ],
   "source": [
    "#Para crear un subgrafo es con el método nx.subgraph(main_graph,list_of_components_of_graph)\n",
    "#En este caso vimos que hay un árbol en G que sería  del 2-9\n",
    "arbol = list(nx.connected_components(G))#Se extrajo la lista de diccionarios.\n",
    "sub_G = nx.subgraph(G,list(arbol[1]))#Se casteo el segundo elemento de diccionario a lista\n",
    "\n",
    "#Preguntemos si ahora sí es un árbol el subgrafo\n",
    "\n",
    "print(\"Es un árbol el subgrafo de G?\",nx.is_tree(sub_G))\n",
    "#Ahora si queremos convertir toda la gráfica en subgrafos sería la implementación asi\n",
    "Sub_graph_G=[nx.subgraph(G,list(c)) for c in nx.connected_components(G)]#Es una lista comprimida\n",
    "print()\n",
    "#Los subgrafos de G para poder trabajar más cómodo.\n",
    "for k in range(0,len(Sub_graph_G)):print(Sub_graph_G[k])\n",
    "print()\n",
    "#Ahora para ver si son árboles podemos implementar el mismo ciclo\n",
    "for k in range(0,len(Sub_graph_G)):print(\"Es un arbol el {}? {}\".format(Sub_graph_G[k].nodes(),nx.is_tree(Sub_graph_G[k])))\n",
    "print()\n",
    "#Si queremos ver los caminos podemos usar el método que se había dicho anteriormente\n",
    "print(\"Hay un camino entre el nodo 7 y 8? \",nx.has_path(Sub_graph_G[1],7,8))"
   ]
  },
  {
   "cell_type": "markdown",
   "id": "8be7c277",
   "metadata": {},
   "source": [
    "## Ejemplo con el segundo grafo.🖊️📒"
   ]
  },
  {
   "cell_type": "code",
   "execution_count": 10,
   "id": "0f815069",
   "metadata": {},
   "outputs": [
    {
     "name": "stdout",
     "output_type": "stream",
     "text": [
      "[(45, 40), (76, 55), (39, 41), (90, 0), (72, 5), (64, 16), (22, 75), (40, 19), (56, 36), (86, 45), (86, 32), (85, 36), (56, 69), (52, 51), (1, 16), (31, 13), (30, 52), (21, 66), (41, 46), (9, 82), (27, 7), (5, 18), (49, 6), (22, 49), (85, 73), (62, 49), (66, 74), (51, 73), (81, 84), (52, 40), (65, 22), (2, 50), (36, 43), (53, 76), (15, 86), (11, 17), (3, 84), (2, 52), (77, 90), (88, 70), (33, 41), (60, 49), (51, 86), (69, 46), (55, 63), (21, 44), (21, 62), (50, 19), (14, 2), (10, 75), (56, 68), (24, 22), (65, 84), (63, 18), (15, 88), (52, 60), (6, 71), (71, 65), (26, 88), (14, 20), (75, 71), (82, 54), (11, 22), (46, 75), (80, 86), (86, 26), (60, 44), (65, 47), (21, 40), (14, 62), (57, 42), (4, 22), (14, 8), (74, 78), (61, 65), (9, 53), (63, 88), (54, 44), (82, 61), (86, 26), (81, 71), (23, 65), (11, 44), (77, 17), (85, 81), (28, 70), (76, 56), (29, 19), (45, 43), (49, 85)]\n"
     ]
    }
   ],
   "source": [
    "#Como nuentro grafo 2 sería con más conexiones \n",
    "#Creamos conexiones aleatorias. Para ello usamos el modulo Random\n",
    "\n",
    "import random\n",
    "conexiones = list()\n",
    "for i in range(0,len(nodos_2)):\n",
    "    for k in range(0,len(nodos_2)):\n",
    "        j = random.randint(0,90)\n",
    "        r = random.randint(0,90)\n",
    "    conexiones.append((j,r))\n",
    "#Agregamos las aristas\n",
    "G_2.add_edges_from(conexiones)\n",
    "#Imprimimos las aristas\n",
    "print(conexiones)\n"
   ]
  },
  {
   "cell_type": "code",
   "execution_count": 11,
   "id": "9994ea39",
   "metadata": {},
   "outputs": [
    {
     "data": {
      "image/png": "[encoded data removed]",
      "text/plain": [
       "<Figure size 432x288 with 1 Axes>"
      ]
     },
     "metadata": {},
     "output_type": "display_data"
    }
   ],
   "source": [
    "#Impresión del grafo que se generó G_2\n",
    "nx.draw(G_2,with_labels = True, node_color = 'magenta',edge_color='blue', node_size = 100, font_color = 'yellow')"
   ]
  },
  {
   "cell_type": "code",
   "execution_count": 12,
   "id": "08debf65",
   "metadata": {},
   "outputs": [
    {
     "name": "stdout",
     "output_type": "stream",
     "text": [
      "Esta conectada la red?  False\n",
      "\n",
      "Hay camino entre el nodo 6 y 1?  False\n",
      "\n",
      "El numero de componentes en la red son:  89\n",
      "\n",
      "Los componentes conetados en G son:  [{0, 2, 3, 4, 5, 6, 8, 9, 10, 11, 14, 15, 17, 18, 19, 20, 21, 22, 23, 24, 26, 28, 29, 30, 32, 33, 36, 39, 40, 41, 43, 44, 45, 46, 47, 49, 50, 51, 52, 53, 54, 55, 56, 60, 61, 62, 63, 65, 66, 68, 69, 70, 71, 72, 73, 74, 75, 76, 77, 78, 80, 81, 82, 84, 85, 86, 88, 90}, {12}, {13, 31}, {16, 1, 64}, {25}, {27, 7}, {34}, {35}, {37}, {38}, {57, 42}, {48}, {58}, {59}, {67}, {79}, {83}, {87}, {89}, {91}, {92}, {93}, {94}, {95}, {96}, {97}, {98}, {99}]\n",
      "\n",
      "Es G un árbol? False\n"
     ]
    }
   ],
   "source": [
    "#Notemos que en nuestro grafo hay conexiones y algunas no.\n",
    "#Entonces veremos si hay conexiones.\n",
    "print(\"Esta conectada la red? \",nx.is_connected(G_2))\n",
    "print()\n",
    "#Veremos si hay caminos en la red \n",
    "print(\"Hay camino entre el nodo 6 y 1? \",nx.has_path(G_2,6,1))\n",
    "print()\n",
    "#Veremos el número de los componentes \n",
    "print(\"El numero de componentes en la red son: \",nx.number_of_edges(G_2))\n",
    "print()\n",
    "#Veremos cuantos están conectados solamente\n",
    "print(\"Los componentes conetados en G son: \", list(nx.connected_components(G_2)))\n",
    "print()\n",
    "#Veremos sí hay un árbol ya que sería un subgrafo de G_2.\n",
    "#Para ver si G_2 es un árbol.\n",
    "print(\"Es G un árbol?\",nx.is_tree(G_2))"
   ]
  },
  {
   "cell_type": "markdown",
   "id": "c43bbd23",
   "metadata": {},
   "source": [
    "### De grafo a subgrafo más grande."
   ]
  },
  {
   "cell_type": "code",
   "execution_count": 13,
   "id": "ec43192a",
   "metadata": {},
   "outputs": [
    {
     "name": "stdout",
     "output_type": "stream",
     "text": [
      "Es un árbol el subgrafo de G_2? True\n",
      "\n",
      "Graph with 68 nodes and 84 edges\n",
      "Graph with 1 nodes and 0 edges\n",
      "Graph with 2 nodes and 1 edges\n",
      "Graph with 3 nodes and 2 edges\n",
      "Graph with 1 nodes and 0 edges\n",
      "Graph with 2 nodes and 1 edges\n",
      "Graph with 1 nodes and 0 edges\n",
      "Graph with 1 nodes and 0 edges\n",
      "Graph with 1 nodes and 0 edges\n",
      "Graph with 1 nodes and 0 edges\n",
      "Graph with 2 nodes and 1 edges\n",
      "Graph with 1 nodes and 0 edges\n",
      "Graph with 1 nodes and 0 edges\n",
      "Graph with 1 nodes and 0 edges\n",
      "Graph with 1 nodes and 0 edges\n",
      "Graph with 1 nodes and 0 edges\n",
      "Graph with 1 nodes and 0 edges\n",
      "Graph with 1 nodes and 0 edges\n",
      "Graph with 1 nodes and 0 edges\n",
      "Graph with 1 nodes and 0 edges\n",
      "Graph with 1 nodes and 0 edges\n",
      "Graph with 1 nodes and 0 edges\n",
      "Graph with 1 nodes and 0 edges\n",
      "Graph with 1 nodes and 0 edges\n",
      "Graph with 1 nodes and 0 edges\n",
      "Graph with 1 nodes and 0 edges\n",
      "Graph with 1 nodes and 0 edges\n",
      "Graph with 1 nodes and 0 edges\n",
      "\n",
      "Es un arbol el [10, 11, 14, 15, 17, 18, 19, 20, 21, 22, 23, 24, 26, 28, 29, 30, 32, 33, 36, 39, 40, 41, 43, 44, 45, 46, 47, 49, 50, 51, 52, 53, 54, 55, 56, 60, 61, 62, 63, 65, 66, 68, 69, 70, 71, 72, 73, 74, 75, 76, 77, 78, 80, 81, 82, 84, 85, 86, 88, 90, 0, 5, 9, 6, 2, 3, 4, 8]? False\n",
      "Es un arbol el [12]? True\n",
      "Es un arbol el [13, 31]? True\n",
      "Es un arbol el [16, 1, 64]? True\n",
      "Es un arbol el [25]? True\n",
      "Es un arbol el [27, 7]? True\n",
      "Es un arbol el [34]? True\n",
      "Es un arbol el [35]? True\n",
      "Es un arbol el [37]? True\n",
      "Es un arbol el [38]? True\n",
      "Es un arbol el [57, 42]? True\n",
      "Es un arbol el [48]? True\n",
      "Es un arbol el [58]? True\n",
      "Es un arbol el [59]? True\n",
      "Es un arbol el [67]? True\n",
      "Es un arbol el [79]? True\n",
      "Es un arbol el [83]? True\n",
      "Es un arbol el [87]? True\n",
      "Es un arbol el [89]? True\n",
      "Es un arbol el [91]? True\n",
      "Es un arbol el [92]? True\n",
      "Es un arbol el [93]? True\n",
      "Es un arbol el [94]? True\n",
      "Es un arbol el [95]? True\n",
      "Es un arbol el [96]? True\n",
      "Es un arbol el [97]? True\n",
      "Es un arbol el [98]? True\n",
      "Es un arbol el [99]? True\n",
      "\n"
     ]
    }
   ],
   "source": [
    "#Generación de un árbol aleatorio.\n",
    "arbol_2 = list(nx.connected_components(G_2))#Se extrajo la lista de diccionarios.\n",
    "sub_G_2 = nx.subgraph(G_2,list(arbol_2[1]))#Se casteo el segundo elemento de diccionario a lista\n",
    "\n",
    "#Preguntemos si ahora sí es un árbol el subgrafo\n",
    "\n",
    "print(\"Es un árbol el subgrafo de G_2?\",nx.is_tree(sub_G_2))\n",
    "#Ahora si queremos convertir toda la gráfica en subgrafos sería la implementación asi\n",
    "Sub_graph_G_2=[nx.subgraph(G_2,list(c)) for c in nx.connected_components(G_2)]#Es una lista comprimida\n",
    "print()\n",
    "#Los subgrafos de G para poder trabajar más cómodo.\n",
    "for k in range(0,len(Sub_graph_G_2)):print(Sub_graph_G_2[k])\n",
    "print()\n",
    "#Ahora para ver si son árboles podemos implementar el mismo ciclo\n",
    "for k in range(0,len(Sub_graph_G_2)):print(\"Es un arbol el {}? {}\".format(Sub_graph_G_2[k].nodes(),nx.is_tree(Sub_graph_G_2[k])))\n",
    "print()"
   ]
  }
 ],
 "metadata": {
  "kernelspec": {
   "display_name": "Python 3 (ipykernel)",
   "language": "python",
   "name": "python3"
  },
  "language_info": {
   "codemirror_mode": {
    "name": "ipython",
    "version": 3
   },
   "file_extension": ".py",
   "mimetype": "text/x-python",
   "name": "python",
   "nbconvert_exporter": "python",
   "pygments_lexer": "ipython3",
   "version": "3.10.0"
  }
 },
 "nbformat": 4,
 "nbformat_minor": 5
}
